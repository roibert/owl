{
 "cells": [
  {
   "cell_type": "markdown",
   "metadata": {},
   "source": [
    "# Pre-Processing Water Level Measurements"
   ]
  },
  {
   "cell_type": "code",
   "execution_count": null,
   "metadata": {},
   "outputs": [],
   "source": [
    "import numpy as np\n",
    "import pandas as pd\n",
    "from datetime import datetime\n",
    "import matplotlib.pyplot as plt\n",
    "\n",
    "INPUT_DATE_FORMAT = \"%d.%m.%Y %H:%M:%S\" \n",
    "OUTPUT_DATE_FORMAT = \"%Y_%m_%d_%H_%M_%S_%f\""
   ]
  },
  {
   "cell_type": "markdown",
   "metadata": {},
   "source": [
    "Parse raw measurements file and map levels to \"percentage full\"."
   ]
  },
  {
   "cell_type": "code",
   "execution_count": null,
   "metadata": {},
   "outputs": [],
   "source": [
    "input_file_water_level_measurements = \"DEFINE PATH TO MEASUREMENTS\"\n",
    "output_file_water_level_measurements = \"DEFINE OUTPUT PATH\""
   ]
  },
  {
   "cell_type": "markdown",
   "metadata": {},
   "source": [
    "Get sensor information:"
   ]
  },
  {
   "cell_type": "code",
   "execution_count": null,
   "metadata": {},
   "outputs": [],
   "source": [
    "with open(input_file_water_level_measurements, \"r\") as sensor_information:\n",
    "    \n",
    "    lines = sensor_information.readlines()\n",
    "    \n",
    "    print(lines[5])\n",
    "    print(lines[2])\n",
    "    print(lines[24])\n",
    "    \n",
    "    print(lines[12])\n",
    "    print(lines[13])"
   ]
  },
  {
   "cell_type": "markdown",
   "metadata": {},
   "source": [
    "Read file and ignore unused columns:"
   ]
  },
  {
   "cell_type": "code",
   "execution_count": null,
   "metadata": {},
   "outputs": [],
   "source": [
    "input_date_parser = lambda date_string: datetime.strptime(date_string, INPUT_DATE_FORMAT)\n",
    "\n",
    "water_level = pd.read_csv(input_file_water_level_measurements, \n",
    "                          skiprows=47, \n",
    "                          skipfooter=2,\n",
    "                          delimiter=\"\\t\",\n",
    "                          names=[\"Counter\",\n",
    "                                 \"Unfiltered [mm]\",\n",
    "                                 \"Filtered [mm]\",\n",
    "                                 \"Temperature [°C]\",\n",
    "                                 \"Quality\",\n",
    "                                 \"Warm Up\",\n",
    "                                 \"Date/time\",\n",
    "                                 \"Timestamp\",\n",
    "                                 \"Raw Data\"],\n",
    "                          parse_dates=[\"Date/time\"],\n",
    "                          date_parser=input_date_parser)\n"
   ]
  },
  {
   "cell_type": "code",
   "execution_count": null,
   "metadata": {},
   "outputs": [],
   "source": [
    "filtered_column = \"Filtered [mm]\""
   ]
  },
  {
   "cell_type": "markdown",
   "metadata": {},
   "source": [
    "## Evaluation of difference Smoothed Water Level - Filtered"
   ]
  },
  {
   "cell_type": "code",
   "execution_count": null,
   "metadata": {},
   "outputs": [],
   "source": [
    "filtered_diff = water_level[filtered_column].diff()\n",
    "\n",
    "quantile_25 = filtered_diff.quantile(.25)\n",
    "quantile_75 = filtered_diff.quantile(.75)\n",
    "\n",
    "iqr = quantile_75 - quantile_25\n",
    "\n",
    "lower_innter_fence = quantile_25 - 1.5 * iqr\n",
    "lower_outer_fence = quantile_25 - 3 * iqr\n",
    "\n",
    "upper_inner_fence = quantile_75 + 1.5 * iqr\n",
    "upper_outer_fence = quantile_75 + 3 * iqr"
   ]
  },
  {
   "cell_type": "code",
   "execution_count": null,
   "metadata": {},
   "outputs": [],
   "source": [
    "figure, axes = plt.subplots(nrows=3, ncols=2, sharex=True, figsize=(15,15))\n",
    "figure.tight_layout()\n",
    "\n",
    "water_level[\"Unfiltered [mm]\"].plot(ax=axes[0,0], title=\"Unfiltered[mm]\")\n",
    "water_level[\"Unfiltered [mm]\"].diff().plot(ax=axes[0,1], title=\"Unfiltered Change[mm]\")\n",
    "\n",
    "water_level[filtered_column].plot(ax=axes[1,0], title=\"Filtered[mm]\")\n",
    "filtered_diff.plot(ax=axes[1,1], title=\"Filtered Change[mm]\")\n",
    "\n",
    "difference = water_level[\"Unfiltered [mm]\"] - water_level[filtered_column]\n",
    "difference.plot(ax=axes[2,0], title=\"Difference\")\n",
    "\n",
    "axes[1, 1].axhline(lower_innter_fence, color=\"green\")\n",
    "axes[1, 1].axhline(lower_outer_fence, color=\"red\")\n",
    "\n",
    "axes[1, 1].axhline(upper_inner_fence, color=\"green\")\n",
    "axes[1, 1].axhline(upper_outer_fence, color=\"red\")\n",
    "\n",
    "plt.show()\n",
    "plt.close()"
   ]
  },
  {
   "cell_type": "markdown",
   "metadata": {},
   "source": [
    "Use the interquartile range to define and remove outliers:"
   ]
  },
  {
   "cell_type": "code",
   "execution_count": null,
   "metadata": {},
   "outputs": [],
   "source": [
    "remove_mild_outliers = False\n",
    "remove_extreme_outliers = True\n",
    "\n",
    "if remove_extreme_outliers:\n",
    "    lower_extreme_outliers = filtered_diff < lower_outer_fence\n",
    "    upper_extreme_outliers = filtered_diff > upper_outer_fence\n",
    " \n",
    "    water_level.loc[lower_extreme_outliers, filtered_column] = np.nan\n",
    "    water_level.loc[upper_extreme_outliers, filtered_column] = np.nan\n",
    "\n",
    "if remove_mild_outliers:\n",
    "    lower_mild_outliers = filtered_diff < lower_innter_fence\n",
    "    upper_mild_outliers = filtered_diff > upper_inner_fence\n",
    "    \n",
    "    water_level.loc[lower_mild_outliers, filtered_column] = np.nan\n",
    "    water_level.loc[upper_mild_outliers, filtered_column] = np.nan"
   ]
  },
  {
   "cell_type": "code",
   "execution_count": null,
   "metadata": {},
   "outputs": [],
   "source": [
    "SAMPLE_WINDOW_SIZE = 5\n",
    "smooth_water_level = water_level[filtered_column].rolling(SAMPLE_WINDOW_SIZE).mean()\n",
    "smooth_water_level = smooth_water_level.to_frame()\n",
    "idx = smooth_water_level[smooth_water_level.isna().any(axis=1)].index\n",
    "\n",
    "\n",
    "n = len(idx)\n",
    "\n",
    "current_length = 0\n",
    "max_length = 0\n",
    "end = 0\n",
    "\n",
    "\n",
    "\n",
    "for i in range(1, n):\n",
    "    if idx[i-1] + 1 == idx[i]:\n",
    "        current_length += 1\n",
    "    else:\n",
    "        if max_length < current_length:\n",
    "            max_length = current_length\n",
    "            end = idx[i-1]\n",
    "        \n",
    "        current_length = 0\n",
    "\n",
    "print(max_length)\n",
    "print(end)\n",
    "print(\"\")\n",
    "for i in idx:\n",
    "    print(i)\n",
    "    \n",
    "    "
   ]
  },
  {
   "cell_type": "code",
   "execution_count": null,
   "metadata": {},
   "outputs": [],
   "source": [
    "SAMPLE_WINDOW_SIZE = 5\n",
    "smooth_water_level = water_level[filtered_column].rolling(SAMPLE_WINDOW_SIZE).mean()\n",
    "smooth_water_level = smooth_water_level.interpolate()"
   ]
  },
  {
   "cell_type": "code",
   "execution_count": null,
   "metadata": {},
   "outputs": [],
   "source": [
    "figure, axes = plt.subplots(nrows=3, ncols=2, sharex=True, figsize=(15,15))\n",
    "figure.tight_layout()\n",
    "\n",
    "water_level[filtered_column].plot(ax=axes[0,0], title=\"Filtered[mm]\")\n",
    "water_level[filtered_column].diff().plot(ax=axes[0,1], title=\"Filtered Change[mm]\")\n",
    "\n",
    "axes[0,1].axhline(lower_innter_fence, color=\"green\")\n",
    "axes[0,1].axhline(lower_outer_fence, color=\"red\")\n",
    "\n",
    "axes[0,1].axhline(upper_inner_fence, color=\"green\")\n",
    "axes[0,1].axhline(upper_outer_fence, color=\"red\")\n",
    "\n",
    "smooth_change = smooth_water_level.diff()\n",
    "\n",
    "smooth_water_level.plot(ax=axes[1,0], title=\"Smoothed Filtered Water Level[mm]\")\n",
    "smooth_change.plot(ax=axes[1,1], title=\"Smoothed Change[mm]\")\n",
    "\n",
    "smooth_diff = smooth_water_level - water_level[filtered_column]\n",
    "smooth_diff.plot(ax=axes[2,1], title=\"Difference Smoothed - Filtered[mm]\")\n",
    "\n",
    "plt.show()\n",
    "plt.close()\n"
   ]
  },
  {
   "cell_type": "markdown",
   "metadata": {},
   "source": [
    "Convert measurements to \"percentage full\"."
   ]
  },
  {
   "cell_type": "code",
   "execution_count": null,
   "metadata": {},
   "outputs": [],
   "source": [
    "dmax = 190.1 # empty pipe\n",
    "dmin = 98  # full pipe\n",
    "\n",
    "pipe_height = dmax - dmin\n",
    "\n",
    "percentage_full = (dmax - smooth_water_level) / pipe_height\n",
    "\n",
    "print(\"Mean percentage full: \", percentage_full.mean())\n",
    "print(\"Min percentage full: \", percentage_full.min())\n",
    "print(\"Max percentage full: \", percentage_full.max())\n",
    "\n",
    "print(\"# Items < 0: \", percentage_full[percentage_full < 0].count())\n",
    "print(\"# Items > 1: \", percentage_full[percentage_full > 1].count())\n",
    "\n",
    "print(\"\\nAfter clipping values:\")\n",
    "\n",
    "percentage_full = percentage_full.clip(upper=1.0, lower=0)\n",
    "print(\"Mean percentage full: \", percentage_full.mean())\n",
    "print(\"Min percentage full: \", percentage_full.min())\n",
    "print(\"Max percentage full: \", percentage_full.max())"
   ]
  },
  {
   "cell_type": "code",
   "execution_count": null,
   "metadata": {},
   "outputs": [],
   "source": [
    "percentage_full.plot()"
   ]
  },
  {
   "cell_type": "code",
   "execution_count": null,
   "metadata": {},
   "outputs": [],
   "source": [
    "percentage_full"
   ]
  },
  {
   "cell_type": "code",
   "execution_count": null,
   "metadata": {},
   "outputs": [],
   "source": [
    "sorted_percentage = percentage_full.to_frame()\n",
    "sorted_percentage = sorted_percentage.sort_values(by=\"Filtered [mm]\", ignore_index=True)\n",
    "\n",
    "\n",
    "\n",
    "figure, axes = plt.subplots(nrows=1, ncols=1, sharex=True, figsize=(15,10))\n",
    "figure.tight_layout()\n",
    "\n",
    "sorted_percentage.plot(ax=axes)\n",
    "\n",
    "axes.axhline(0.76, color=\"red\")\n",
    "axes.axhline(0.75, color=\"green\")\n",
    "axes.axhline(0.745)\n",
    "axes.axhline(0.57)\n",
    "axes.axhline(0.575)\n",
    "axes.axhline(0.625)\n"
   ]
  },
  {
   "cell_type": "markdown",
   "metadata": {},
   "source": [
    "Combine data with timestamps:"
   ]
  },
  {
   "cell_type": "code",
   "execution_count": null,
   "metadata": {},
   "outputs": [],
   "source": [
    "final_data = pd.DataFrame({\n",
    "    \"Timestamp\": water_level[\"Date/time\"], \n",
    "    \"Waterlevel [mm]\": smooth_water_level,\n",
    "    \"Percentage Full [%%]\": percentage_full\n",
    "})\n",
    "\n",
    "final_data.set_index(\"Timestamp\", inplace=True)\n",
    "final_data = final_data[SAMPLE_WINDOW_SIZE-1:]\n",
    "\n",
    "final_data.to_csv(output_file_water_level_measurements, date_format=OUTPUT_DATE_FORMAT)"
   ]
  },
  {
   "cell_type": "code",
   "execution_count": null,
   "metadata": {},
   "outputs": [],
   "source": [
    "pd.cut(smooth_water_level, 3, retbins=True)"
   ]
  },
  {
   "cell_type": "code",
   "execution_count": null,
   "metadata": {},
   "outputs": [],
   "source": [
    "smooth_water_level.quantile(.93)"
   ]
  },
  {
   "cell_type": "code",
   "execution_count": null,
   "metadata": {},
   "outputs": [],
   "source": [
    "percentage_full#[\"Filtered [mm]\"]"
   ]
  },
  {
   "cell_type": "code",
   "execution_count": null,
   "metadata": {},
   "outputs": [],
   "source": [
    "percentage_full[percentage_full > .8]\n",
    "#percentage_full[!(.7 <= percentage_full < .9)].plot()"
   ]
  },
  {
   "cell_type": "code",
   "execution_count": null,
   "metadata": {},
   "outputs": [],
   "source": [
    "percentage_full[(percentage_full <= .4) | (percentage_full > 0.8)].plot()"
   ]
  },
  {
   "cell_type": "code",
   "execution_count": null,
   "metadata": {},
   "outputs": [],
   "source": [
    "percentage_full[((percentage_full <= .4) | (percentage_full > 0.8))].plot()"
   ]
  },
  {
   "cell_type": "code",
   "execution_count": null,
   "metadata": {},
   "outputs": [],
   "source": []
  }
 ],
 "metadata": {
  "kernelspec": {
   "display_name": "Python 3 (ipykernel)",
   "language": "python",
   "name": "python3"
  },
  "language_info": {
   "codemirror_mode": {
    "name": "ipython",
    "version": 3
   },
   "file_extension": ".py",
   "mimetype": "text/x-python",
   "name": "python",
   "nbconvert_exporter": "python",
   "pygments_lexer": "ipython3",
   "version": "3.7.7"
  }
 },
 "nbformat": 4,
 "nbformat_minor": 4
}
