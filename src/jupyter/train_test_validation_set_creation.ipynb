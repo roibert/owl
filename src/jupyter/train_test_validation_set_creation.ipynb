{
 "cells": [
  {
   "cell_type": "markdown",
   "metadata": {},
   "source": [
    "# Load Pre-Processed Data & Define Train-, Test- and Validation Sets"
   ]
  },
  {
   "cell_type": "code",
   "execution_count": null,
   "metadata": {},
   "outputs": [],
   "source": [
    "from datetime import datetime\n",
    "from os import listdir\n",
    "from os.path import isfile, join\n",
    "\n",
    "import re\n",
    "import numpy as np\n",
    "import pandas as pd\n",
    "import matplotlib.pyplot as plt"
   ]
  },
  {
   "cell_type": "code",
   "execution_count": null,
   "metadata": {},
   "outputs": [],
   "source": [
    "input_file_water_level_measurements = \"PATH TO WATER LEVEL MEASUREMENTS\"\n",
    "input_file_velocity_measurements = \"PATH TO VELOCITY MEASUREMENTS\"\n",
    "\n",
    "frame_folder = \"FRAME FOLDER\"\n",
    "output_file = \"OUTPUT PATH\""
   ]
  },
  {
   "cell_type": "code",
   "execution_count": null,
   "metadata": {},
   "outputs": [],
   "source": [
    "frame_index = frame_folder + r\"\\frame_index.csv\"\n",
    "train_set_index = frame_folder + r\"\\train_index.csv\"\n",
    "test_set_index = frame_folder + r\"\\test_index.csv\"\n",
    "validation_set_index = frame_folder + r\"\\validation_index.csv\""
   ]
  },
  {
   "cell_type": "code",
   "execution_count": null,
   "metadata": {},
   "outputs": [],
   "source": [
    "frame_index"
   ]
  },
  {
   "cell_type": "code",
   "execution_count": null,
   "metadata": {},
   "outputs": [],
   "source": [
    "water_level = pd.read_csv(input_file_water_level_measurements)\n",
    "velocity = pd.read_csv(input_file_velocity_measurements)\n",
    "\n",
    "water_level[\"Timestamp_no_millis\"] = water_level[\"Timestamp\"].apply(lambda t: t[0:-7])\n",
    "water_level.set_index(\"Timestamp\", inplace=True)\n",
    "velocity.set_index(\"Timestamp\", inplace=True)\n",
    "\n",
    "data = water_level.join(velocity, how=\"inner\")\n",
    "\n",
    "print(data)"
   ]
  },
  {
   "cell_type": "markdown",
   "metadata": {},
   "source": [
    "Write to file:"
   ]
  },
  {
   "cell_type": "code",
   "execution_count": null,
   "metadata": {},
   "outputs": [],
   "source": [
    "data.to_csv(output_file)"
   ]
  },
  {
   "cell_type": "markdown",
   "metadata": {},
   "source": [
    "## Correlation"
   ]
  },
  {
   "cell_type": "code",
   "execution_count": null,
   "metadata": {},
   "outputs": [],
   "source": [
    "level = \"Percentage Full [%%]\"\n",
    "velocity = \"velocity\""
   ]
  },
  {
   "cell_type": "code",
   "execution_count": null,
   "metadata": {},
   "outputs": [],
   "source": [
    "fig = plt.figure()\n",
    "\n",
    "plt.scatter(data[level], data[velocity])\n",
    "plt.xlabel(\"Water Level\")\n",
    "plt.ylabel(\"Velocity\")\n",
    "\n",
    "plt.show()\n",
    "plt.close()\n",
    "\n",
    "data[level].corr(data[velocity])"
   ]
  },
  {
   "cell_type": "markdown",
   "metadata": {},
   "source": [
    "## Train-, Test- & Validation Sets"
   ]
  },
  {
   "cell_type": "code",
   "execution_count": null,
   "metadata": {},
   "outputs": [],
   "source": [
    "frames = [f for f in listdir(frame_folder) if isfile(join(frame_folder, f)) and f.endswith(\".jpg\")]\n",
    "frames = pd.DataFrame({\"Frame\" : frames})\n",
    "\n",
    "def _date_extractor(frame_name): \n",
    "    \n",
    "    extractor = r\"2021_\\d\\d_\\d\\d_\\d\\d_\\d\\d_\\d\\d_\\d+\"\n",
    "    #print(frame_name)\n",
    "    match = re.findall(extractor, frame_name)\n",
    "    date_str = match[0]\n",
    "    \n",
    "    return date_str\n",
    "\n",
    "frames[\"Timestamp\"] = frames[\"Frame\"].map(_date_extractor)\n",
    "frames[\"Timestamp_no_millis\"] = frames[\"Timestamp\"].apply(lambda t: t[0:-7])\n",
    "\n",
    "frames.set_index(\"Timestamp\", inplace=True)\n",
    "\n",
    "frames.to_csv(frame_index)\n",
    "\n",
    "frames"
   ]
  },
  {
   "cell_type": "markdown",
   "metadata": {},
   "source": [
    "### Water Level Split"
   ]
  },
  {
   "cell_type": "code",
   "execution_count": null,
   "metadata": {},
   "outputs": [],
   "source": [
    "def _get_label(i):\n",
    "    return \"L%d\" % i\n",
    "\n",
    "NUMBER_OF_BINS = 10\n",
    "labels = [_get_label(i) for i in range(NUMBER_OF_BINS)]\n",
    "\n",
    "water_level_label = \"Water Level Label\"\n",
    "\n",
    "data[water_level_label] = pd.cut(data[level], NUMBER_OF_BINS, labels=labels)\n",
    "data[water_level_label] = data[water_level_label].astype(str)"
   ]
  },
  {
   "cell_type": "code",
   "execution_count": null,
   "metadata": {},
   "outputs": [],
   "source": [
    "data"
   ]
  },
  {
   "cell_type": "code",
   "execution_count": null,
   "metadata": {},
   "outputs": [],
   "source": [
    "set_label = \"Set\"\n",
    "data[set_label] = \"\"\n",
    "\n",
    "train_set_label = \"Train\"\n",
    "test_set_label = \"Test\"\n",
    "validation_set_label = \"Validation\"\n",
    "\n",
    "train_ratio = 0.6\n",
    "test_ratio = 0.2\n",
    "validation_ratio = 0.2\n",
    "np.random.seed(1989)\n",
    "\n",
    "\n",
    "def _get_set_assigner(n):\n",
    "    \n",
    "    labels = pd.Series([train_set_label])\n",
    "    labels = labels.repeat(n)\n",
    "    labels = labels.reset_index(drop=True)\n",
    "    \n",
    "    n_test = int(n * test_ratio)\n",
    "    n_validation = int(n * validation_ratio)\n",
    "        \n",
    "    for i in range(n_test):\n",
    "        labels[i] = test_set_label\n",
    "    \n",
    "    for i in range(n_validation):\n",
    "        labels[i+n_test] = validation_set_label\n",
    "    \n",
    "    labels = labels.sample(frac=1).reset_index(drop=True)\n",
    "    \n",
    "    for i in range(n):\n",
    "        yield labels[i]\n",
    "\n",
    "            \n",
    "def _set_assigner_wrapper(value, assigner):\n",
    "    return next(assigner)\n",
    "    \n",
    "\n",
    "for i in range(NUMBER_OF_BINS):\n",
    "    current_label = _get_label(i)\n",
    "    \n",
    "    n = (data[water_level_label] == current_label).sum()\n",
    "    set_assigner = _get_set_assigner(n)\n",
    "    \n",
    "    data.loc[data[water_level_label] == current_label, set_label] = data.loc[data[water_level_label] == current_label, set_label].apply(_set_assigner_wrapper, assigner=set_assigner)"
   ]
  },
  {
   "cell_type": "code",
   "execution_count": null,
   "metadata": {
    "scrolled": false
   },
   "outputs": [],
   "source": [
    "training_set = data[data[set_label] == train_set_label]\n",
    "training_set.to_csv(train_set_index)\n",
    "\n",
    "training_set"
   ]
  },
  {
   "cell_type": "code",
   "execution_count": null,
   "metadata": {},
   "outputs": [],
   "source": [
    "test_set = data[data[set_label] == test_set_label]\n",
    "test_set.to_csv(test_set_index)\n",
    "\n",
    "test_set"
   ]
  },
  {
   "cell_type": "code",
   "execution_count": null,
   "metadata": {
    "scrolled": true
   },
   "outputs": [],
   "source": [
    "validation_set = data[data[set_label] == validation_set_label]\n",
    "validation_set.to_csv(validation_set_index)\n",
    "\n",
    "validation_set"
   ]
  },
  {
   "cell_type": "code",
   "execution_count": null,
   "metadata": {
    "scrolled": true
   },
   "outputs": [],
   "source": [
    "figure, axes = plt.subplots(nrows=3, \\\n",
    "                            #sharex=True, \\\n",
    "                            figsize=(15,15/1.62))\n",
    "figure.tight_layout()\n",
    "\n",
    "training_set[\"Waterlevel [mm]\"].plot(ax=axes[0], title=\"Training Data\")\n",
    "validation_set[\"Waterlevel [mm]\"].plot(ax=axes[1], title=\"Validation Data\")\n",
    "test_set[\"Waterlevel [mm]\"].plot(ax=axes[2], title=\"Test Data\")\n",
    "\n",
    "plt.show()\n",
    "plt.close()"
   ]
  },
  {
   "cell_type": "code",
   "execution_count": null,
   "metadata": {},
   "outputs": [],
   "source": [
    "figure, axes = plt.subplots(nrows=3, \\\n",
    "                            #sharex=True, \\\n",
    "                            figsize=(15,15/1.62))\n",
    "figure.tight_layout()\n",
    "\n",
    "training_set[\"Percentage Full [%%]\"].plot(ax=axes[0], title=\"Training Data\")\n",
    "\n",
    "plt.show()\n",
    "plt.close()"
   ]
  }
 ],
 "metadata": {
  "kernelspec": {
   "display_name": "Python 3 (ipykernel)",
   "language": "python",
   "name": "python3"
  },
  "language_info": {
   "codemirror_mode": {
    "name": "ipython",
    "version": 3
   },
   "file_extension": ".py",
   "mimetype": "text/x-python",
   "name": "python",
   "nbconvert_exporter": "python",
   "pygments_lexer": "ipython3",
   "version": "3.7.7"
  }
 },
 "nbformat": 4,
 "nbformat_minor": 4
}
