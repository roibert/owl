{
 "cells": [
  {
   "cell_type": "markdown",
   "metadata": {},
   "source": [
    "# Pre-Processing Surface Velocity Measurements"
   ]
  },
  {
   "cell_type": "code",
   "execution_count": null,
   "metadata": {},
   "outputs": [],
   "source": [
    "import re\n",
    "import pandas as pd\n",
    "import numpy as np\n",
    "import matplotlib.pyplot as plt\n",
    "\n",
    "from datetime import datetime\n",
    "from datetime import timedelta\n",
    "\n",
    "import dateutil.parser"
   ]
  },
  {
   "cell_type": "code",
   "execution_count": null,
   "metadata": {},
   "outputs": [],
   "source": [
    "HEADER_DATE_FORMAT = \"%d.%m.%Y %H:%M:%S\" \n",
    "OUTPUT_DATE_FORMAT = \"%Y_%m_%d_%H_%M_%S_%f\""
   ]
  },
  {
   "cell_type": "markdown",
   "metadata": {},
   "source": [
    "Parse raw measurements file and convert to file with proper time stamps"
   ]
  },
  {
   "cell_type": "code",
   "execution_count": null,
   "metadata": {},
   "outputs": [],
   "source": [
    "input_file_velocity_measurements = \"DEFINE PATH TO MEASUREMENTS\"\n",
    "input_file_velocity_header = \"DEFINE PATH TO HEADER\"\n",
    "\n",
    "output_file_velocity_measurements = \"DEFINE OUTPUT PATH\"\n",
    "cut_off_date = dateutil.parser.isoparse(\"YYYY-MM-DDTHH:MM:SS\") #TODO: define correctly\n",
    "\n",
    "cut_off_date"
   ]
  },
  {
   "cell_type": "markdown",
   "metadata": {},
   "source": [
    "Get meta information:"
   ]
  },
  {
   "cell_type": "code",
   "execution_count": null,
   "metadata": {},
   "outputs": [],
   "source": [
    "def _get_date_from_header_line(line):\n",
    "    \n",
    "    date_extractor = r\"\\d\\d\\.\\d\\d\\.\\d\\d\\d\\d \\d\\d:\\d\\d:\\d\\d\"\n",
    "    match = re.findall(date_extractor, line)\n",
    "    date = datetime.strptime(match[0], HEADER_DATE_FORMAT)\n",
    "    return date"
   ]
  },
  {
   "cell_type": "code",
   "execution_count": null,
   "metadata": {},
   "outputs": [],
   "source": [
    "with open(input_file_velocity_header, \"r\") as sensor_information:\n",
    "    \n",
    "    lines = sensor_information.readlines()\n",
    "    \n",
    "    start = _get_date_from_header_line(lines[4])\n",
    "    stop = _get_date_from_header_line(lines[5])\n",
    "    duration = stop - start\n",
    "    duration_in_s = duration.seconds\n",
    "    \n",
    "    print(\"Measurement start: \", start)\n",
    "    print(\"Measurement stop: \", stop)\n",
    "    print(\"Duration: \", duration, \" (= \", duration_in_s, \"s)\", sep=\"\")\n",
    "    \n",
    "    # get sampling rate\n",
    "    sampling_rate_extractor = r\"\\d+ Hz\"\n",
    "    match = re.findall(sampling_rate_extractor, lines[9])\n",
    "    sampling_rate_str = match[0]\n",
    "    print(\"Sampling rate: \", sampling_rate_str)\n",
    "\n",
    "    # get number of measurements\n",
    "    number_extractor = r\"\\d+\"\n",
    "    match = re.findall(number_extractor, lines[2])\n",
    "    number_measurements = int(match[0])\n",
    "    print(\"Number of measurements: \", number_measurements)\n",
    "        \n",
    "    # small sanity check\n",
    "    match = re.findall(number_extractor, sampling_rate_str)\n",
    "    sampling_rate = int(match[0])\n",
    "    \n",
    "    samples_per_second = number_measurements / duration_in_s\n",
    "    print(\"Sanity Check:\")\n",
    "    print(\"\\tExpected number of samples: \", duration_in_s * sampling_rate)\n",
    "    print(\"\\tCalculated samples per second: \", samples_per_second)\n",
    "    print(\"\\tDivergence: \", (samples_per_second-sampling_rate) / sampling_rate, \"%\", sep=\"\")"
   ]
  },
  {
   "cell_type": "markdown",
   "metadata": {},
   "source": [
    "Read file and ignore unused columns:"
   ]
  },
  {
   "cell_type": "code",
   "execution_count": null,
   "metadata": {},
   "outputs": [],
   "source": [
    "# get column headers\n",
    "with open(input_file_velocity_header, \"r\") as sensor_information:\n",
    "    \n",
    "    lines = sensor_information.readlines()\n",
    "    \n",
    "    i = 0\n",
    "    n = len(lines)\n",
    "    \n",
    "    for k in range(n):\n",
    "        if \"Data file format\" in lines[k]:\n",
    "            i = k\n",
    "            break\n",
    "    \n",
    "    # ignore 2 successive lines\n",
    "    i += 3\n",
    "\n",
    "    column_names = list()\n",
    "\n",
    "    for k in range(20):\n",
    "        \n",
    "        current_line = lines[i+k]\n",
    "        line_split = current_line.replace(\"  \", \"\\t\").split(\"\\t\")\n",
    "        \n",
    "        measurement_name = line_split[1].strip()\n",
    "        unit = line_split[-1].strip()\n",
    "        column_name = \"%s [%s]\" % (measurement_name, unit)\n",
    "        \n",
    "        column_names.append(column_name)\n",
    "        \n",
    "\n",
    "k = None        \n",
    "velocity_data = pd.read_csv(input_file_velocity_measurements, names=column_names, delim_whitespace=True)\n",
    "\n",
    "print(\"Column Names:\")\n",
    "for name in column_names:\n",
    "    print(\"\\t\", name)\n",
    "\n",
    "name = None "
   ]
  },
  {
   "cell_type": "code",
   "execution_count": null,
   "metadata": {},
   "outputs": [],
   "source": [
    "velocity_data"
   ]
  },
  {
   "cell_type": "code",
   "execution_count": null,
   "metadata": {},
   "outputs": [],
   "source": [
    "pd.read_csv(input_file_velocity_measurements, names=column_names, delim_whitespace=True)"
   ]
  },
  {
   "cell_type": "markdown",
   "metadata": {},
   "source": [
    "Convert timestamps:"
   ]
  },
  {
   "cell_type": "code",
   "execution_count": null,
   "metadata": {},
   "outputs": [],
   "source": [
    "velocity_data"
   ]
  },
  {
   "cell_type": "code",
   "execution_count": null,
   "metadata": {},
   "outputs": [],
   "source": [
    "(velocity_data[column_names[1]])"
   ]
  },
  {
   "cell_type": "code",
   "execution_count": null,
   "metadata": {},
   "outputs": [],
   "source": [
    "first_timestamp = velocity_data[column_names[1]].iloc[0]\n",
    "\n",
    "timestamp_converter = lambda timestamp: start + timedelta(seconds=(timestamp-first_timestamp))\n",
    "\n",
    "velocity_data[\"Timestamp\"] = velocity_data[column_names[1]].apply(timestamp_converter)\n",
    "velocity_data.set_index(\"Timestamp\", drop=True, inplace=True)\n",
    "velocity_data"
   ]
  },
  {
   "cell_type": "code",
   "execution_count": null,
   "metadata": {},
   "outputs": [],
   "source": [
    "x_axis_column_name = column_names[4]\n",
    "y_axis_column_name = column_names[5]\n",
    "z_axis_column_name = column_names[6]"
   ]
  },
  {
   "cell_type": "markdown",
   "metadata": {},
   "source": [
    "## Outlier Removal"
   ]
  },
  {
   "cell_type": "markdown",
   "metadata": {},
   "source": [
    "Augment data with differences:"
   ]
  },
  {
   "cell_type": "code",
   "execution_count": null,
   "metadata": {},
   "outputs": [],
   "source": [
    "x_axis_difference = \"x_diff\"\n",
    "y_axis_difference = \"y_diff\"\n",
    "z_axis_difference = \"z_diff\"\n",
    "\n",
    "velocity_data[x_axis_difference] = velocity_data[x_axis_column_name].diff()\n",
    "velocity_data[y_axis_difference] = velocity_data[y_axis_column_name].diff()\n",
    "velocity_data[z_axis_difference] = velocity_data[z_axis_column_name].diff()\n",
    "\n",
    "velocity_data"
   ]
  },
  {
   "cell_type": "code",
   "execution_count": null,
   "metadata": {},
   "outputs": [],
   "source": [
    "quantile_25 = velocity_data.quantile(.25)\n",
    "quantile_75 = velocity_data.quantile(.75)\n",
    "\n",
    "iqr = quantile_75 - quantile_25\n",
    "\n",
    "lower_innter_fence = quantile_25 - 1.5 * iqr\n",
    "lower_outer_fence = quantile_25 - 3 * iqr\n",
    "\n",
    "upper_inner_fence = quantile_75 + 1.5 * iqr\n",
    "upper_outer_fence = quantile_75 + 3 * iqr"
   ]
  },
  {
   "cell_type": "code",
   "execution_count": null,
   "metadata": {},
   "outputs": [],
   "source": [
    "def _add_vertical_cut_off_date(axes):\n",
    "    \n",
    "    n = axes.shape[0]\n",
    "    m = axes.shape[1]\n",
    "\n",
    "    for i in range(n):\n",
    "        for j in range(m):\n",
    "            axes[i][j].axvline(cut_off_date, color=\"black\", linestyle=\"--\")\n"
   ]
  },
  {
   "cell_type": "code",
   "execution_count": null,
   "metadata": {},
   "outputs": [],
   "source": [
    "figure, axes = plt.subplots(nrows=3, ncols=2, sharex=True, figsize=(15,15/1.62))\n",
    "figure.tight_layout()\n",
    "\n",
    "velocity_data[x_axis_column_name].plot(ax=axes[0,0], title=\"Velocity x\")\n",
    "velocity_data[y_axis_column_name].plot(ax=axes[1,0], title=\"Velocity y\")\n",
    "velocity_data[z_axis_column_name].plot(ax=axes[2,0], title=\"Velocity z\")\n",
    "\n",
    "velocity_data[x_axis_difference].plot(ax=axes[0,1], title=\"Velocity Difference x\")\n",
    "velocity_data[y_axis_difference].plot(ax=axes[1,1], title=\"Velocity Difference y\")\n",
    "velocity_data[z_axis_difference].plot(ax=axes[2,1], title=\"Velocity Difference z\")\n",
    "\n",
    "for row_number, column_name in zip(range(3), [x_axis_difference, y_axis_difference, z_axis_difference]):\n",
    "    \n",
    "    axes[row_number, 1].axhline(lower_innter_fence[column_name], color=\"green\")\n",
    "    axes[row_number, 1].axhline(lower_outer_fence[column_name], color=\"red\")\n",
    "\n",
    "    axes[row_number, 1].axhline(upper_inner_fence[column_name], color=\"green\")\n",
    "    axes[row_number, 1].axhline(upper_outer_fence[column_name], color=\"red\")\n",
    "\n",
    "\n",
    "_add_vertical_cut_off_date(axes)\n",
    "plt.show()\n",
    "plt.close()\n",
    "\n",
    "row_number = None \n",
    "column_name = None "
   ]
  },
  {
   "cell_type": "markdown",
   "metadata": {},
   "source": [
    "Remove outliers:"
   ]
  },
  {
   "cell_type": "code",
   "execution_count": null,
   "metadata": {},
   "outputs": [],
   "source": [
    "remove_mild_outliers = False\n",
    "remove_extreme_outliers = True\n",
    "\n",
    "for column, difference_colum in zip([x_axis_column_name, y_axis_column_name, z_axis_column_name], \n",
    "                                    [x_axis_difference, y_axis_difference, z_axis_difference]):\n",
    "\n",
    "    if remove_extreme_outliers:\n",
    "        lower_extreme_outliers = velocity_data[difference_colum] < lower_outer_fence[difference_colum]\n",
    "        upper_extreme_outliers = velocity_data[difference_colum] > upper_outer_fence[difference_colum]\n",
    "\n",
    "        velocity_data.loc[lower_extreme_outliers, column] = np.nan\n",
    "        velocity_data.loc[upper_extreme_outliers, column] = np.nan\n",
    "        \n",
    "    if remove_mild_outliers:\n",
    "        lower_mild_outliers = velocity_data[difference_colum] < lower_innter_fence[difference_colum]\n",
    "        upper_mild_outliers = velocity_data[difference_colum] > upper_inner_fence[difference_colum]\n",
    "\n",
    "        velocity_data.loc[lower_mild_outliers, column] = np.nan\n",
    "        velocity_data.loc[upper_mild_outliers, column] = np.nan\n",
    "\n",
    "        \n",
    "column = None \n",
    "difference_colum = None "
   ]
  },
  {
   "cell_type": "code",
   "execution_count": null,
   "metadata": {},
   "outputs": [],
   "source": [
    "figure, axes = plt.subplots(nrows=3, ncols=2, sharex=True, figsize=(15,15/1.62))\n",
    "figure.tight_layout()\n",
    "\n",
    "velocity_data[x_axis_column_name].plot(ax=axes[0,0], title=\"Velocity x\")\n",
    "velocity_data[y_axis_column_name].plot(ax=axes[1,0], title=\"Velocity y\")\n",
    "velocity_data[z_axis_column_name].plot(ax=axes[2,0], title=\"Velocity z\")\n",
    "\n",
    "velocity_data[x_axis_column_name].diff().plot(ax=axes[0,1], title=\"Velocity Difference x\")\n",
    "velocity_data[y_axis_column_name].diff().plot(ax=axes[1,1], title=\"Velocity Difference y\")\n",
    "velocity_data[z_axis_column_name].diff().plot(ax=axes[2,1], title=\"Velocity Difference z\")\n",
    "\n",
    "for row_number, column_name in zip(range(3), [x_axis_difference, y_axis_difference, z_axis_difference]):\n",
    "    \n",
    "    axes[row_number, 1].axhline(lower_innter_fence[column_name], color=\"green\")\n",
    "    axes[row_number, 1].axhline(lower_outer_fence[column_name], color=\"red\")\n",
    "\n",
    "    axes[row_number, 1].axhline(upper_inner_fence[column_name], color=\"green\")\n",
    "    axes[row_number, 1].axhline(upper_outer_fence[column_name], color=\"red\")\n",
    "\n",
    "_add_vertical_cut_off_date(axes)\n",
    "plt.show()\n",
    "plt.close()\n",
    "\n",
    "row_number = None \n",
    "column_name = None "
   ]
  },
  {
   "cell_type": "markdown",
   "metadata": {},
   "source": [
    "## Smoothed Data"
   ]
  },
  {
   "cell_type": "markdown",
   "metadata": {},
   "source": [
    "Aggregate over one second"
   ]
  },
  {
   "cell_type": "code",
   "execution_count": null,
   "metadata": {},
   "outputs": [],
   "source": [
    "velocity_data = velocity_data.resample(\"1s\").mean()\n",
    "velocity_data"
   ]
  },
  {
   "cell_type": "code",
   "execution_count": null,
   "metadata": {},
   "outputs": [],
   "source": [
    "velocity_column = \"velocity\"\n",
    "\n",
    "velocity_data[velocity_column] = (velocity_data[x_axis_column_name] ** 2 \\\n",
    "                                + velocity_data[y_axis_column_name] ** 2 \\\n",
    "                                + velocity_data[z_axis_column_name] ** 2).pow(.5)"
   ]
  },
  {
   "cell_type": "code",
   "execution_count": null,
   "metadata": {},
   "outputs": [],
   "source": [
    "SECONDS_TO_AVERAGE = 30\n",
    "SAMPLE_WINDOW_SIZE = SECONDS_TO_AVERAGE\n",
    "\n",
    "smooth_x = velocity_data[x_axis_column_name].rolling(SAMPLE_WINDOW_SIZE).mean()\n",
    "smooth_y = velocity_data[y_axis_column_name].rolling(SAMPLE_WINDOW_SIZE).mean()\n",
    "smooth_z = velocity_data[z_axis_column_name].rolling(SAMPLE_WINDOW_SIZE).mean()\n",
    "smooth_v = velocity_data[velocity_column].rolling(SAMPLE_WINDOW_SIZE).mean()\n",
    "\n",
    "smooth_x = smooth_x.interpolate()\n",
    "smooth_y = smooth_y.interpolate()\n",
    "smooth_z = smooth_z.interpolate()\n",
    "smooth_v = smooth_v.interpolate()"
   ]
  },
  {
   "cell_type": "code",
   "execution_count": null,
   "metadata": {
    "scrolled": true
   },
   "outputs": [],
   "source": [
    "lower_rolling_percentile = 5\n",
    "upper_rolling_percentile = 95\n",
    "\n",
    "quantiles = [lower_rolling_percentile, upper_rolling_percentile] \n",
    "quantiles_as_floats = np.array(quantiles) / 100\n",
    "\n",
    "def _get_column_name(percentile, axis):\n",
    "    return \"rolling%d%s\" % (percentile, axis)\n",
    "\n",
    "\n",
    "rolling_quantiles = pd.DataFrame(data ={\n",
    "    \"Timestamp\" : velocity_data.index, # deliberately NOT setting as index yet. \n",
    "    \n",
    "    _get_column_name(lower_rolling_percentile, \"x\") : np.zeros(len(smooth_x)),\n",
    "    _get_column_name(upper_rolling_percentile, \"x\") : np.zeros(len(smooth_x)),\n",
    "    \n",
    "    _get_column_name(lower_rolling_percentile, \"y\") : np.zeros(len(smooth_y)),\n",
    "    _get_column_name(upper_rolling_percentile, \"y\") : np.zeros(len(smooth_y)),\n",
    "    \n",
    "    _get_column_name(lower_rolling_percentile, \"z\") : np.zeros(len(smooth_z)),\n",
    "    _get_column_name(upper_rolling_percentile, \"z\") : np.zeros(len(smooth_z)),\n",
    "    \n",
    "    _get_column_name(lower_rolling_percentile, \"v\") : np.zeros(len(smooth_v)),\n",
    "    _get_column_name(upper_rolling_percentile, \"v\") : np.zeros(len(smooth_v))\n",
    "})\n",
    "\n",
    "\n",
    "def _rolling_quantile_calculator(row, original_dataframe):\n",
    "\n",
    "    current_row_index = int(row.name)\n",
    "    \n",
    "    current_sub_dataframe = original_dataframe.head(current_row_index)\n",
    "    \n",
    "    for axis, original_column_name in zip([\"x\", \"y\", \"z\", \"v\"], [x_axis_column_name, y_axis_column_name, z_axis_column_name, velocity_column]):\n",
    "\n",
    "        calculated_quantiles = current_sub_dataframe[original_column_name].quantile(quantiles_as_floats)\n",
    "                \n",
    "        row[_get_column_name(quantiles[0], axis)] = calculated_quantiles.iloc[0]\n",
    "        row[_get_column_name(quantiles[1], axis)] = calculated_quantiles.iloc[1]\n",
    "    \n",
    "    return row\n",
    "        \n",
    "rolling_quantiles = rolling_quantiles.apply(_rolling_quantile_calculator, axis=1, original_dataframe=velocity_data)\n",
    "rolling_quantiles.set_index(\"Timestamp\", inplace=True, drop=True)\n",
    "\n",
    "rolling_quantiles"
   ]
  },
  {
   "cell_type": "code",
   "execution_count": null,
   "metadata": {},
   "outputs": [],
   "source": [
    "figure, axes = plt.subplots(nrows=4, ncols=2, sharex=True, figsize=(15,15/1.62))\n",
    "figure.tight_layout()\n",
    "\n",
    "velocity_data[x_axis_column_name].plot(ax=axes[0,0], title=\"Velocity x\")\n",
    "velocity_data[y_axis_column_name].plot(ax=axes[1,0], title=\"Velocity y\")\n",
    "velocity_data[z_axis_column_name].plot(ax=axes[2,0], title=\"Velocity z\")\n",
    "velocity_data[velocity_column].plot(ax=axes[3,0], title=\"Velocity\")\n",
    "\n",
    "smooth_x.plot(ax=axes[0,0])\n",
    "smooth_y.plot(ax=axes[1,0])\n",
    "smooth_z.plot(ax=axes[2,0])\n",
    "smooth_v.plot(ax=axes[3,0])\n",
    "\n",
    "smooth_x.plot(ax=axes[0,1], title=\"Rolling Average Velocity x\")\n",
    "smooth_y.plot(ax=axes[1,1], title=\"Rolling Average Velocity y\")\n",
    "smooth_z.plot(ax=axes[2,1], title=\"Rolling Average Velocity z\")\n",
    "smooth_v.plot(ax=axes[3,1], title=\"Rolling Average Velocity\")\n",
    "\n",
    "rolling_quantiles[_get_column_name(lower_rolling_percentile, \"x\")].plot(ax=axes[0,0])\n",
    "rolling_quantiles[_get_column_name(upper_rolling_percentile, \"x\")].plot(ax=axes[0,0])\n",
    "\n",
    "rolling_quantiles[_get_column_name(lower_rolling_percentile, \"y\")].plot(ax=axes[1,0])\n",
    "rolling_quantiles[_get_column_name(upper_rolling_percentile, \"y\")].plot(ax=axes[1,0])\n",
    "\n",
    "rolling_quantiles[_get_column_name(lower_rolling_percentile, \"z\")].plot(ax=axes[2,0])\n",
    "rolling_quantiles[_get_column_name(upper_rolling_percentile, \"z\")].plot(ax=axes[2,0])\n",
    "\n",
    "rolling_quantiles[_get_column_name(lower_rolling_percentile, \"v\")].plot(ax=axes[3,0])\n",
    "rolling_quantiles[_get_column_name(upper_rolling_percentile, \"v\")].plot(ax=axes[3,0])\n",
    "\n",
    "_add_vertical_cut_off_date(axes)\n",
    "plt.show()\n",
    "plt.close()"
   ]
  },
  {
   "cell_type": "markdown",
   "metadata": {},
   "source": [
    "Take smoothed data as measurements. Write to file:"
   ]
  },
  {
   "cell_type": "code",
   "execution_count": null,
   "metadata": {},
   "outputs": [],
   "source": [
    "alskdjalskjdaslkdj"
   ]
  },
  {
   "cell_type": "code",
   "execution_count": null,
   "metadata": {},
   "outputs": [],
   "source": [
    "final_data = velocity_data[:cut_off_date][velocity_column]\n",
    "final_data.to_csv(output_file_velocity_measurements, date_format=OUTPUT_DATE_FORMAT)\n",
    "final_data"
   ]
  },
  {
   "cell_type": "code",
   "execution_count": null,
   "metadata": {},
   "outputs": [],
   "source": [
    "final_data = velocity_data[:cut_off_date][velocity_column]\n",
    "final_data"
   ]
  },
  {
   "cell_type": "code",
   "execution_count": null,
   "metadata": {},
   "outputs": [],
   "source": [
    "sorted_final = final_data.to_frame()\n",
    "sorted_final = sorted_final.sort_values(by=velocity_column, ignore_index=True)\n",
    "sorted_final.plot()"
   ]
  },
  {
   "cell_type": "code",
   "execution_count": null,
   "metadata": {},
   "outputs": [],
   "source": [
    "figure, axes = plt.subplots(nrows=1, ncols=1, sharex=True, figsize=(15,10))\n",
    "figure.tight_layout()\n",
    "\n",
    "sorted_final.plot(ax=axes)\n",
    "\n",
    "axes.axhline(0.73, color=\"red\")\n",
    "axes.axhline(0.62, color=\"red\")\n",
    "\n",
    "\n"
   ]
  },
  {
   "cell_type": "code",
   "execution_count": null,
   "metadata": {},
   "outputs": [],
   "source": [
    "final_data"
   ]
  },
  {
   "cell_type": "code",
   "execution_count": null,
   "metadata": {},
   "outputs": [],
   "source": [
    "training_set_information = pd.read_csv(\"\")\n"
   ]
  }
 ],
 "metadata": {
  "kernelspec": {
   "display_name": "Python 3 (ipykernel)",
   "language": "python",
   "name": "python3"
  },
  "language_info": {
   "codemirror_mode": {
    "name": "ipython",
    "version": 3
   },
   "file_extension": ".py",
   "mimetype": "text/x-python",
   "name": "python",
   "nbconvert_exporter": "python",
   "pygments_lexer": "ipython3",
   "version": "3.7.7"
  }
 },
 "nbformat": 4,
 "nbformat_minor": 4
}
