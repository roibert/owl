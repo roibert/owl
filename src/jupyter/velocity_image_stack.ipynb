{
 "cells": [
  {
   "cell_type": "code",
   "execution_count": null,
   "metadata": {},
   "outputs": [],
   "source": [
    "import cv2\n",
    "import pandas as pd\n",
    "import numpy as np"
   ]
  },
  {
   "cell_type": "code",
   "execution_count": null,
   "metadata": {},
   "outputs": [],
   "source": [
    "frame_folder = \"DEFINE FRAME FOLDER PATH\"\n",
    "stacked_index_output = frame_folder + \"\\stacked_index.csv\""
   ]
  },
  {
   "cell_type": "code",
   "execution_count": null,
   "metadata": {},
   "outputs": [],
   "source": [
    "frame_index = frame_folder + r\"\\frame_index.csv\"\n",
    "train_set_index = frame_folder + r\"\\train_index.csv\"\n",
    "test_set_index = frame_folder + r\"\\test_index.csv\"\n",
    "validation_set_index = frame_folder + r\"\\validation_index.csv\""
   ]
  },
  {
   "cell_type": "code",
   "execution_count": null,
   "metadata": {},
   "outputs": [],
   "source": [
    "frames = pd.read_csv(frame_index)\n",
    "train_set = pd.read_csv(train_set_index)\n",
    "test_set = pd.read_csv(test_set_index)\n",
    "validation_set = pd.read_csv(validation_set_index)"
   ]
  },
  {
   "cell_type": "code",
   "execution_count": null,
   "metadata": {},
   "outputs": [],
   "source": [
    "frames"
   ]
  },
  {
   "cell_type": "code",
   "execution_count": null,
   "metadata": {},
   "outputs": [],
   "source": [
    "train_set"
   ]
  },
  {
   "cell_type": "code",
   "execution_count": null,
   "metadata": {},
   "outputs": [],
   "source": [
    "test_set"
   ]
  },
  {
   "cell_type": "code",
   "execution_count": null,
   "metadata": {},
   "outputs": [],
   "source": [
    "validation_set"
   ]
  },
  {
   "cell_type": "code",
   "execution_count": null,
   "metadata": {},
   "outputs": [],
   "source": [
    "complete_set = pd.concat([train_set, test_set, validation_set])\n",
    "complete_set"
   ]
  },
  {
   "cell_type": "code",
   "execution_count": null,
   "metadata": {},
   "outputs": [],
   "source": [
    "def _load_images(data):\n",
    "    \n",
    "    frames = data[\"Frame\"].values\n",
    "    \n",
    "    loaded_frames = list()\n",
    "    \n",
    "    for frame in frames:\n",
    "        \n",
    "        current_path = \"%s\\\\%s\" % (frame_folder, frame)\n",
    "        \n",
    "        current_frame = cv2.imread(current_path)\n",
    "        loaded_frames.append(current_frame)\n",
    "    \n",
    "    return np.array(loaded_frames)\n",
    "    \n",
    "    \n",
    "def _image_path(data):\n",
    "    \n",
    "    any_frame = str(data[\"Frame\"].values[0])\n",
    "    \n",
    "    video_prefix_end_index = any_frame.index(\"_f\")\n",
    "    video_prefix = any_frame[0:video_prefix_end_index]  \n",
    "    \n",
    "    timestamp = data[\"Timestamp_no_millis\"].iloc[0]\n",
    "    \n",
    "    stacked_frame_path = \"%s\\\\%s_stacked_v2_%s.jpg\" % (frame_folder, video_prefix, timestamp)\n",
    "    \n",
    "    return stacked_frame_path\n",
    "    \n",
    "\n",
    "def _reduce_data_frame(data, image_path):\n",
    "    \n",
    "    return pd.DataFrame({\n",
    "        \"Timestamp_no_millis\" : [data[\"Timestamp_no_millis\"].iloc[0]],\n",
    "        \"Velocity\" : [data[\"velocity\"].iloc[0]],\n",
    "        \"Waterlevel [mm]\" : [data[\"Waterlevel [mm]\"].iloc[0]],\n",
    "        \"Percentage Full [%%]\" : [data[\"Percentage Full [%%]\"].iloc[0]],\n",
    "        \"Frame\" : [image_path]\n",
    "    })\n",
    "        \n",
    "\n",
    "def _stack_images(data):\n",
    "        \n",
    "    frames = _load_images(data)\n",
    "    \n",
    "    n = len(frames)\n",
    "    \n",
    "    if n < 25:\n",
    "        return None\n",
    "    \n",
    "    frames = frames[-25:]\n",
    "    \n",
    "    if len(frames) != 25:\n",
    "        aslkdjkajsd\n",
    "    \n",
    "    stacked_frames = np.concatenate(frames, axis=0) # vertical concat.\n",
    "    \n",
    "    image_path = _image_path(data)\n",
    "    \n",
    "    cv2.imwrite(image_path, stacked_frames)\n",
    "    \n",
    "    return _reduce_data_frame(data, image_path)\n",
    "\n",
    "\n",
    "def stack_data_set(data, frames):\n",
    "    data_merged_with_frames = frames.merge(data, on=\"Timestamp_no_millis\")\n",
    "    stacked_data = data_merged_with_frames.groupby(\"Timestamp_no_millis\").apply(_stack_images)\n",
    "    \n",
    "    return stacked_data"
   ]
  },
  {
   "cell_type": "code",
   "execution_count": null,
   "metadata": {},
   "outputs": [],
   "source": [
    "training_set_stacked = stack_data_set(complete_set, frames)"
   ]
  },
  {
   "cell_type": "code",
   "execution_count": null,
   "metadata": {},
   "outputs": [],
   "source": [
    "training_set_stacked"
   ]
  },
  {
   "cell_type": "code",
   "execution_count": null,
   "metadata": {},
   "outputs": [],
   "source": [
    "training_set_stacked.to_csv(stacked_index_output)"
   ]
  },
  {
   "cell_type": "code",
   "execution_count": null,
   "metadata": {},
   "outputs": [],
   "source": [
    "stacked_index_output"
   ]
  },
  {
   "cell_type": "code",
   "execution_count": null,
   "metadata": {},
   "outputs": [],
   "source": []
  }
 ],
 "metadata": {
  "kernelspec": {
   "display_name": "Python 3 (ipykernel)",
   "language": "python",
   "name": "python3"
  },
  "language_info": {
   "codemirror_mode": {
    "name": "ipython",
    "version": 3
   },
   "file_extension": ".py",
   "mimetype": "text/x-python",
   "name": "python",
   "nbconvert_exporter": "python",
   "pygments_lexer": "ipython3",
   "version": "3.7.7"
  }
 },
 "nbformat": 4,
 "nbformat_minor": 4
}
